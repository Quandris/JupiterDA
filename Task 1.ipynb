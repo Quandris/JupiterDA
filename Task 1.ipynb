{
 "cells": [
  {
   "cell_type": "markdown",
   "id": "842ecdfd",
   "metadata": {},
   "source": [
    "## Task 1\n",
    "\n",
    "#### Uber rides\n",
    "\n",
    "The original data is available at this location: https://www.kaggle.com/anupammajhi/uber-request-data\n",
    "\n",
    "*Note that the original data was too clean, so I decided to remove some values from the Pickup point column so that they can be imputed; the modified version of the .csv file is available on my github.*\n",
    "\n",
    "*Further note that I generated some extra price data in a separate file which the original data can be enriched with. It is also available on my github.*"
   ]
  },
  {
   "cell_type": "code",
   "execution_count": 1,
   "id": "51889549",
   "metadata": {},
   "outputs": [],
   "source": [
    "#import necessary packages\n",
    "import pandas as pd\n",
    "import numpy as np\n",
    "import matplotlib.pyplot as plt\n",
    "import seaborn as sns\n",
    "from sklearn.impute import SimpleImputer\n"
   ]
  },
  {
   "cell_type": "markdown",
   "id": "77f7098d",
   "metadata": {},
   "source": [
    "Let us look at a random sets of a few records to have a feel for the datasets"
   ]
  },
  {
   "cell_type": "code",
   "execution_count": 2,
   "id": "da89ae58",
   "metadata": {},
   "outputs": [
    {
     "data": {
      "text/html": [
       "<div>\n",
       "<style scoped>\n",
       "    .dataframe tbody tr th:only-of-type {\n",
       "        vertical-align: middle;\n",
       "    }\n",
       "\n",
       "    .dataframe tbody tr th {\n",
       "        vertical-align: top;\n",
       "    }\n",
       "\n",
       "    .dataframe thead th {\n",
       "        text-align: right;\n",
       "    }\n",
       "</style>\n",
       "<table border=\"1\" class=\"dataframe\">\n",
       "  <thead>\n",
       "    <tr style=\"text-align: right;\">\n",
       "      <th></th>\n",
       "      <th>Request id</th>\n",
       "      <th>Pickup point</th>\n",
       "      <th>Driver id</th>\n",
       "      <th>Status</th>\n",
       "      <th>Request timestamp</th>\n",
       "      <th>Drop timestamp</th>\n",
       "    </tr>\n",
       "  </thead>\n",
       "  <tbody>\n",
       "    <tr>\n",
       "      <th>2747</th>\n",
       "      <td>5297</td>\n",
       "      <td>City</td>\n",
       "      <td>290.0</td>\n",
       "      <td>Trip Completed</td>\n",
       "      <td>2016-07-14 21:51:00</td>\n",
       "      <td>2016-07-14 22:25:00</td>\n",
       "    </tr>\n",
       "    <tr>\n",
       "      <th>5663</th>\n",
       "      <td>4159</td>\n",
       "      <td>Airport</td>\n",
       "      <td>NaN</td>\n",
       "      <td>No Cars Available</td>\n",
       "      <td>2016-07-14 05:05:00</td>\n",
       "      <td>NaT</td>\n",
       "    </tr>\n",
       "    <tr>\n",
       "      <th>537</th>\n",
       "      <td>4233</td>\n",
       "      <td>Airport</td>\n",
       "      <td>55.0</td>\n",
       "      <td>Trip Completed</td>\n",
       "      <td>2016-07-14 05:51:00</td>\n",
       "      <td>2016-07-14 06:58:00</td>\n",
       "    </tr>\n",
       "    <tr>\n",
       "      <th>5520</th>\n",
       "      <td>3861</td>\n",
       "      <td>Airport</td>\n",
       "      <td>NaN</td>\n",
       "      <td>No Cars Available</td>\n",
       "      <td>2016-07-13 21:47:00</td>\n",
       "      <td>NaT</td>\n",
       "    </tr>\n",
       "    <tr>\n",
       "      <th>2543</th>\n",
       "      <td>4714</td>\n",
       "      <td>City</td>\n",
       "      <td>268.0</td>\n",
       "      <td>Trip Completed</td>\n",
       "      <td>2016-07-14 13:30:00</td>\n",
       "      <td>2016-07-14 14:04:00</td>\n",
       "    </tr>\n",
       "  </tbody>\n",
       "</table>\n",
       "</div>"
      ],
      "text/plain": [
       "      Request id Pickup point  Driver id             Status  \\\n",
       "2747        5297         City      290.0     Trip Completed   \n",
       "5663        4159      Airport        NaN  No Cars Available   \n",
       "537         4233      Airport       55.0     Trip Completed   \n",
       "5520        3861      Airport        NaN  No Cars Available   \n",
       "2543        4714         City      268.0     Trip Completed   \n",
       "\n",
       "       Request timestamp      Drop timestamp  \n",
       "2747 2016-07-14 21:51:00 2016-07-14 22:25:00  \n",
       "5663 2016-07-14 05:05:00                 NaT  \n",
       "537  2016-07-14 05:51:00 2016-07-14 06:58:00  \n",
       "5520 2016-07-13 21:47:00                 NaT  \n",
       "2543 2016-07-14 13:30:00 2016-07-14 14:04:00  "
      ]
     },
     "execution_count": 2,
     "metadata": {},
     "output_type": "execute_result"
    }
   ],
   "source": [
    "# requests\n",
    "uber_request = pd.read_csv('~/Uber Request Data.csv', parse_dates=['Request timestamp', 'Drop timestamp'])\n",
    "uber_request.sample(5)"
   ]
  },
  {
   "cell_type": "code",
   "execution_count": 3,
   "id": "8b822b3d",
   "metadata": {},
   "outputs": [
    {
     "data": {
      "text/html": [
       "<div>\n",
       "<style scoped>\n",
       "    .dataframe tbody tr th:only-of-type {\n",
       "        vertical-align: middle;\n",
       "    }\n",
       "\n",
       "    .dataframe tbody tr th {\n",
       "        vertical-align: top;\n",
       "    }\n",
       "\n",
       "    .dataframe thead th {\n",
       "        text-align: right;\n",
       "    }\n",
       "</style>\n",
       "<table border=\"1\" class=\"dataframe\">\n",
       "  <thead>\n",
       "    <tr style=\"text-align: right;\">\n",
       "      <th></th>\n",
       "      <th>Request id</th>\n",
       "      <th>Price</th>\n",
       "    </tr>\n",
       "  </thead>\n",
       "  <tbody>\n",
       "    <tr>\n",
       "      <th>2115</th>\n",
       "      <td>6086</td>\n",
       "      <td>106.880445</td>\n",
       "    </tr>\n",
       "    <tr>\n",
       "      <th>4097</th>\n",
       "      <td>1366</td>\n",
       "      <td>NaN</td>\n",
       "    </tr>\n",
       "    <tr>\n",
       "      <th>928</th>\n",
       "      <td>1524</td>\n",
       "      <td>123.239222</td>\n",
       "    </tr>\n",
       "    <tr>\n",
       "      <th>2609</th>\n",
       "      <td>757</td>\n",
       "      <td>76.203797</td>\n",
       "    </tr>\n",
       "    <tr>\n",
       "      <th>5485</th>\n",
       "      <td>3803</td>\n",
       "      <td>NaN</td>\n",
       "    </tr>\n",
       "  </tbody>\n",
       "</table>\n",
       "</div>"
      ],
      "text/plain": [
       "      Request id       Price\n",
       "2115        6086  106.880445\n",
       "4097        1366         NaN\n",
       "928         1524  123.239222\n",
       "2609         757   76.203797\n",
       "5485        3803         NaN"
      ]
     },
     "execution_count": 3,
     "metadata": {},
     "output_type": "execute_result"
    }
   ],
   "source": [
    "# price\n",
    "uber_px = pd.read_csv('~/Uber Request Prices.csv')\n",
    "uber_px.sample(5)"
   ]
  },
  {
   "cell_type": "markdown",
   "id": "7c7f6578",
   "metadata": {},
   "source": [
    "Combine the dataset (i.e. enrich the original request data with prices) using Request id column"
   ]
  },
  {
   "cell_type": "code",
   "execution_count": 4,
   "id": "6efda1a7",
   "metadata": {},
   "outputs": [
    {
     "data": {
      "text/html": [
       "<div>\n",
       "<style scoped>\n",
       "    .dataframe tbody tr th:only-of-type {\n",
       "        vertical-align: middle;\n",
       "    }\n",
       "\n",
       "    .dataframe tbody tr th {\n",
       "        vertical-align: top;\n",
       "    }\n",
       "\n",
       "    .dataframe thead th {\n",
       "        text-align: right;\n",
       "    }\n",
       "</style>\n",
       "<table border=\"1\" class=\"dataframe\">\n",
       "  <thead>\n",
       "    <tr style=\"text-align: right;\">\n",
       "      <th></th>\n",
       "      <th>Request id</th>\n",
       "      <th>Pickup point</th>\n",
       "      <th>Driver id</th>\n",
       "      <th>Status</th>\n",
       "      <th>Request timestamp</th>\n",
       "      <th>Drop timestamp</th>\n",
       "      <th>Price</th>\n",
       "    </tr>\n",
       "  </thead>\n",
       "  <tbody>\n",
       "    <tr>\n",
       "      <th>2897</th>\n",
       "      <td>4586</td>\n",
       "      <td>City</td>\n",
       "      <td>20.0</td>\n",
       "      <td>Cancelled</td>\n",
       "      <td>2016-07-14 10:09:00</td>\n",
       "      <td>NaT</td>\n",
       "      <td>NaN</td>\n",
       "    </tr>\n",
       "    <tr>\n",
       "      <th>1719</th>\n",
       "      <td>3634</td>\n",
       "      <td>City</td>\n",
       "      <td>181.0</td>\n",
       "      <td>Trip Completed</td>\n",
       "      <td>2016-07-13 19:00:00</td>\n",
       "      <td>2016-07-13 19:54:00</td>\n",
       "      <td>132.238519</td>\n",
       "    </tr>\n",
       "    <tr>\n",
       "      <th>2566</th>\n",
       "      <td>6111</td>\n",
       "      <td>City</td>\n",
       "      <td>270.0</td>\n",
       "      <td>Trip Completed</td>\n",
       "      <td>2016-07-15 15:03:00</td>\n",
       "      <td>2016-07-15 16:15:00</td>\n",
       "      <td>159.542094</td>\n",
       "    </tr>\n",
       "    <tr>\n",
       "      <th>5874</th>\n",
       "      <td>4907</td>\n",
       "      <td>Airport</td>\n",
       "      <td>NaN</td>\n",
       "      <td>No Cars Available</td>\n",
       "      <td>2016-07-14 18:10:00</td>\n",
       "      <td>NaT</td>\n",
       "      <td>NaN</td>\n",
       "    </tr>\n",
       "    <tr>\n",
       "      <th>5393</th>\n",
       "      <td>3642</td>\n",
       "      <td>Airport</td>\n",
       "      <td>NaN</td>\n",
       "      <td>No Cars Available</td>\n",
       "      <td>2016-07-13 19:07:00</td>\n",
       "      <td>NaT</td>\n",
       "      <td>NaN</td>\n",
       "    </tr>\n",
       "  </tbody>\n",
       "</table>\n",
       "</div>"
      ],
      "text/plain": [
       "      Request id Pickup point  Driver id             Status  \\\n",
       "2897        4586         City       20.0          Cancelled   \n",
       "1719        3634         City      181.0     Trip Completed   \n",
       "2566        6111         City      270.0     Trip Completed   \n",
       "5874        4907      Airport        NaN  No Cars Available   \n",
       "5393        3642      Airport        NaN  No Cars Available   \n",
       "\n",
       "       Request timestamp      Drop timestamp       Price  \n",
       "2897 2016-07-14 10:09:00                 NaT         NaN  \n",
       "1719 2016-07-13 19:00:00 2016-07-13 19:54:00  132.238519  \n",
       "2566 2016-07-15 15:03:00 2016-07-15 16:15:00  159.542094  \n",
       "5874 2016-07-14 18:10:00                 NaT         NaN  \n",
       "5393 2016-07-13 19:07:00                 NaT         NaN  "
      ]
     },
     "execution_count": 4,
     "metadata": {},
     "output_type": "execute_result"
    }
   ],
   "source": [
    "uber = pd.merge(left=uber_request, right=uber_px, how='left', left_on='Request id', right_on='Request id')\n",
    "uber.sample(5)"
   ]
  },
  {
   "cell_type": "markdown",
   "id": "1af52121",
   "metadata": {},
   "source": [
    "#### Exploratory Data Analysis (EDA)\n",
    "\n",
    "EDA involves analysing the dataset to summarise its main characteristics\n",
    "\n",
    "First, I created a summary table to better understand the variables (features) of the data set"
   ]
  },
  {
   "cell_type": "code",
   "execution_count": 5,
   "id": "56aaf7a2",
   "metadata": {},
   "outputs": [
    {
     "name": "stdout",
     "output_type": "stream",
     "text": [
      "Number of records: 6745\n"
     ]
    },
    {
     "data": {
      "text/html": [
       "<div>\n",
       "<style scoped>\n",
       "    .dataframe tbody tr th:only-of-type {\n",
       "        vertical-align: middle;\n",
       "    }\n",
       "\n",
       "    .dataframe tbody tr th {\n",
       "        vertical-align: top;\n",
       "    }\n",
       "\n",
       "    .dataframe thead th {\n",
       "        text-align: right;\n",
       "    }\n",
       "</style>\n",
       "<table border=\"1\" class=\"dataframe\">\n",
       "  <thead>\n",
       "    <tr style=\"text-align: right;\">\n",
       "      <th></th>\n",
       "      <th>Variable</th>\n",
       "      <th>Number of missing values</th>\n",
       "      <th>Proportion of missing values</th>\n",
       "      <th>Number of unique values</th>\n",
       "      <th>Values</th>\n",
       "      <th>Data type</th>\n",
       "    </tr>\n",
       "  </thead>\n",
       "  <tbody>\n",
       "    <tr>\n",
       "      <th>0</th>\n",
       "      <td>Request id</td>\n",
       "      <td>0</td>\n",
       "      <td>0.000</td>\n",
       "      <td>6745</td>\n",
       "      <td>[619, 867, 1807, 2532, 3112, 3879, 4270, 5510,...</td>\n",
       "      <td>int64</td>\n",
       "    </tr>\n",
       "    <tr>\n",
       "      <th>1</th>\n",
       "      <td>Pickup point</td>\n",
       "      <td>20</td>\n",
       "      <td>0.003</td>\n",
       "      <td>2</td>\n",
       "      <td>[Airport, City, nan]</td>\n",
       "      <td>object</td>\n",
       "    </tr>\n",
       "    <tr>\n",
       "      <th>2</th>\n",
       "      <td>Driver id</td>\n",
       "      <td>2650</td>\n",
       "      <td>0.393</td>\n",
       "      <td>300</td>\n",
       "      <td>[1.0, 2.0, 3.0, 4.0, 5.0, 6.0, 7.0, 8.0, 9.0, ...</td>\n",
       "      <td>float64</td>\n",
       "    </tr>\n",
       "    <tr>\n",
       "      <th>3</th>\n",
       "      <td>Status</td>\n",
       "      <td>0</td>\n",
       "      <td>0.000</td>\n",
       "      <td>3</td>\n",
       "      <td>[Trip Completed, Cancelled, No Cars Available]</td>\n",
       "      <td>object</td>\n",
       "    </tr>\n",
       "    <tr>\n",
       "      <th>4</th>\n",
       "      <td>Request timestamp</td>\n",
       "      <td>0</td>\n",
       "      <td>0.000</td>\n",
       "      <td>4016</td>\n",
       "      <td>[1478519460000000000, 1478541420000000000, 148...</td>\n",
       "      <td>datetime64[ns]</td>\n",
       "    </tr>\n",
       "    <tr>\n",
       "      <th>5</th>\n",
       "      <td>Drop timestamp</td>\n",
       "      <td>3914</td>\n",
       "      <td>0.580</td>\n",
       "      <td>2282</td>\n",
       "      <td>[1478523600000000000, 1478544420000000000, 148...</td>\n",
       "      <td>datetime64[ns]</td>\n",
       "    </tr>\n",
       "    <tr>\n",
       "      <th>6</th>\n",
       "      <td>Price</td>\n",
       "      <td>3911</td>\n",
       "      <td>0.580</td>\n",
       "      <td>2833</td>\n",
       "      <td>[186.0417624, 102.5716891, 78.41048784, 148.58...</td>\n",
       "      <td>float64</td>\n",
       "    </tr>\n",
       "  </tbody>\n",
       "</table>\n",
       "</div>"
      ],
      "text/plain": [
       "            Variable Number of missing values  Proportion of missing values  \\\n",
       "0         Request id                        0                         0.000   \n",
       "1       Pickup point                       20                         0.003   \n",
       "2          Driver id                     2650                         0.393   \n",
       "3             Status                        0                         0.000   \n",
       "4  Request timestamp                        0                         0.000   \n",
       "5     Drop timestamp                     3914                         0.580   \n",
       "6              Price                     3911                         0.580   \n",
       "\n",
       "  Number of unique values                                             Values  \\\n",
       "0                    6745  [619, 867, 1807, 2532, 3112, 3879, 4270, 5510,...   \n",
       "1                       2                               [Airport, City, nan]   \n",
       "2                     300  [1.0, 2.0, 3.0, 4.0, 5.0, 6.0, 7.0, 8.0, 9.0, ...   \n",
       "3                       3     [Trip Completed, Cancelled, No Cars Available]   \n",
       "4                    4016  [1478519460000000000, 1478541420000000000, 148...   \n",
       "5                    2282  [1478523600000000000, 1478544420000000000, 148...   \n",
       "6                    2833  [186.0417624, 102.5716891, 78.41048784, 148.58...   \n",
       "\n",
       "        Data type  \n",
       "0           int64  \n",
       "1          object  \n",
       "2         float64  \n",
       "3          object  \n",
       "4  datetime64[ns]  \n",
       "5  datetime64[ns]  \n",
       "6         float64  "
      ]
     },
     "execution_count": 5,
     "metadata": {},
     "output_type": "execute_result"
    }
   ],
   "source": [
    "# number of total records\n",
    "print(f'Number of records: {len(uber)}')\n",
    "\n",
    "# new dataframe to store the properties of the uber df's columns\n",
    "features = pd.DataFrame(columns=['Variable',\n",
    "                                 'Number of missing values',\n",
    "                                 'Proportion of missing values',\n",
    "                                 'Number of unique values','Values',\n",
    "                                 'Data type'\n",
    "                            ])\n",
    "\n",
    "# populate the features dataframe\n",
    "for i, col in enumerate(uber.columns):\n",
    "    features.loc[i] = [col,                                                       # column (feature) name\n",
    "                       pd.isna(uber[col]).sum(),                                  # number of missing values\n",
    "                       (pd.isna(uber[col]).sum() / len(uber[col])).round(3),      # proportion of missing values\n",
    "                       uber[col].nunique(),                                       # number of unique values\n",
    "                       uber[col].unique().tolist(),                               # list of unique values\n",
    "                       uber[col].dtype                                            # column (feature) data type\n",
    "                    ]\n",
    "    \n",
    "features"
   ]
  },
  {
   "cell_type": "markdown",
   "id": "c5956c04",
   "metadata": {},
   "source": [
    "Key observations:\n",
    "    \n",
    "    - Request id: there are all unique ids (number of unique ids = number of records)\n",
    "    \n",
    "    - Pickup point: 20 missing + two unique values: City and Airport; could be converted to categorical\n",
    "    \n",
    "    - Driver id: many missing values (~40%); 300 unique drivers; verify data is missing when no car available\n",
    "    \n",
    "    - Status: 3 unique values; could be converted to categorical\n",
    "    \n",
    "    - Request timestamp: no missing values, all unique as expected\n",
    "    \n",
    "    - Drop timestamp: many missing values (58%); yet to verify it's only filled in when trip completed\n",
    "    \n",
    "    - Price: many missing values but 4 fewer than for Drop timestamp"
   ]
  },
  {
   "cell_type": "code",
   "execution_count": 6,
   "id": "bc33b02b",
   "metadata": {},
   "outputs": [],
   "source": [
    "# convert aforementioned feature dtypes to category\n",
    "uber['Pickup point'] = uber['Pickup point'].astype('category')\n",
    "uber['Status'] = uber['Status'].astype('category')"
   ]
  },
  {
   "cell_type": "markdown",
   "id": "caa63e31",
   "metadata": {},
   "source": [
    "Confirming that the above hypotheses regarding missing values in Driver id and Drop timestamp columns check out"
   ]
  },
  {
   "cell_type": "code",
   "execution_count": 7,
   "id": "11736337",
   "metadata": {},
   "outputs": [
    {
     "data": {
      "image/png": "[encoded data removed]",
      "text/plain": [
       "<Figure size 432x288 with 1 Axes>"
      ]
     },
     "metadata": {
      "needs_background": "light"
     },
     "output_type": "display_data"
    }
   ],
   "source": [
    "missing_drivers = uber.loc[np.isnan(uber['Driver id']), 'Status'].value_counts()\n",
    "plt.bar(missing_drivers.index, missing_drivers);"
   ]
  },
  {
   "cell_type": "code",
   "execution_count": 8,
   "id": "cfe77eca",
   "metadata": {},
   "outputs": [
    {
     "data": {
      "image/png": "[encoded data removed]",
      "text/plain": [
       "<Figure size 432x288 with 1 Axes>"
      ]
     },
     "metadata": {
      "needs_background": "light"
     },
     "output_type": "display_data"
    }
   ],
   "source": [
    "missing_drop_timestamps = uber.loc[np.isnan(uber['Drop timestamp']), 'Status'].value_counts()\n",
    "plt.bar(missing_drop_timestamps.index, missing_drop_timestamps);"
   ]
  },
  {
   "cell_type": "markdown",
   "id": "75105a3f",
   "metadata": {},
   "source": [
    "They are both true indeed - the driver information is only missing where there was no car available and missing drop timestamp is only missing where either no car was available or the person requested the trip cancelled it"
   ]
  },
  {
   "cell_type": "markdown",
   "id": "19317875",
   "metadata": {},
   "source": [
    "As we have seen earlier, there are 20 records where Pickup point is not populated. They are genuinely missing values (as opposed to the ones we looked at above) as there is not reason why they should not be populated.\n",
    "\n",
    "Missing values can cause problems down the line as, for example, many machine learning models cannot work with them. Generally, there are two options to tackle them. One, is to delete all records with missing values and two, to fill in the missing values (aka data imputation). Many times selecting the best option is more art than science but there are some rules of thumbs we can follow. For example, if the number of records with missing values accounts for only a tiny fraction of the dataset, it is probably fine to get rid of them.\n",
    "\n",
    "In this case we could probably just delete these records but I am going keep to demonstrate data imputation.\n",
    "\n",
    "Filling in missing values is a common task as many real life dataset has patchy data. In case of numerical values, we usually impute the given column's (aka attrbiute or feature) mean or median value. For categorical values, we can impute the most common value. Note that there are other, more complex methods such as KNNImputer that allows us to find a specified number of properly populated records that are similar to the one with missing value, and impute the value that's most common amongst these similar records.\n",
    "\n",
    "Here, however, I'm just going to use the SimpleImputer."
   ]
  },
  {
   "cell_type": "code",
   "execution_count": 9,
   "id": "93052681",
   "metadata": {},
   "outputs": [],
   "source": [
    "# replace missing values with the most frequent value in the column\n",
    "si = SimpleImputer(strategy='most_frequent')\n",
    "\n",
    "uber['Pickup point'] = si.fit_transform(uber['Pickup point'].to_numpy().reshape(-1, 1))"
   ]
  },
  {
   "cell_type": "code",
   "execution_count": 10,
   "id": "836f2f9b",
   "metadata": {},
   "outputs": [
    {
     "data": {
      "text/plain": [
       "City       3512\n",
       "Airport    3233\n",
       "Name: Pickup point, dtype: int64"
      ]
     },
     "execution_count": 10,
     "metadata": {},
     "output_type": "execute_result"
    }
   ],
   "source": [
    "# confirm that there are no missing values\n",
    "uber['Pickup point'].value_counts(dropna=False)"
   ]
  },
  {
   "cell_type": "markdown",
   "id": "7c3965f3",
   "metadata": {},
   "source": [
    "As we have seen earlier, 58% of the records did not finish in a completed trip. This requires further investigation. First, let us look at whether the pickup location makes any difference.\n",
    "\n",
    "We can see that there are significant number of non-completed trips regardless of the pickup location. It is worth noting though, that there is a big difference in the reason why: the vast majority of pickups requested at the airports got cancelled because of no available cars. In contrast, in the city it is a much more balanced picture between the two reasons."
   ]
  },
  {
   "cell_type": "code",
   "execution_count": 11,
   "id": "513d3d1e",
   "metadata": {},
   "outputs": [
    {
     "data": {
      "image/png": "[encoded data removed]",
      "text/plain": [
       "<Figure size 432x288 with 1 Axes>"
      ]
     },
     "metadata": {
      "needs_background": "light"
     },
     "output_type": "display_data"
    }
   ],
   "source": [
    "sns.countplot(data=uber, x='Pickup point', hue='Status');"
   ]
  },
  {
   "cell_type": "markdown",
   "id": "5d2f8e03",
   "metadata": {},
   "source": [
    "It would be interesting to see if part of the day plays a role in this massive imbalance in case of airport pickups. Let us derive the hours from the request timestamps and plot the different status against the hours of the day.\n",
    "\n",
    "It is clear that there is a massive spike in demand roughly from 5pm to 9pm that is not met by supply, hence the large increase in not completed requests due to no available cars.\n",
    "\n",
    "It is also interesting to look at the same chart for City pickups. We can see similar pickup in demand; however, as probably expected, it is in the morning hours from 5am to 9am."
   ]
  },
  {
   "cell_type": "code",
   "execution_count": 12,
   "id": "1d5e60e8",
   "metadata": {},
   "outputs": [
    {
     "data": {
      "image/png": "[encoded data removed]",
      "text/plain": [
       "<Figure size 432x288 with 1 Axes>"
      ]
     },
     "metadata": {
      "needs_background": "light"
     },
     "output_type": "display_data"
    }
   ],
   "source": [
    "mask = uber['Pickup point'] == 'Airport'\n",
    "hours = uber.loc[mask, 'Request timestamp'].dt.hour\n",
    "sns.countplot(data=uber[mask], x=hours, hue='Status')\n",
    "plt.plot(uber[mask].groupby(hours)['Request id'].agg(np.size), label='Number of requests')\n",
    "plt.xlabel('Hour')\n",
    "plt.legend(loc='upper left');"
   ]
  },
  {
   "cell_type": "code",
   "execution_count": 13,
   "id": "175426f1",
   "metadata": {},
   "outputs": [
    {
     "data": {
      "image/png": "[encoded data removed]",
      "text/plain": [
       "<Figure size 432x288 with 1 Axes>"
      ]
     },
     "metadata": {
      "needs_background": "light"
     },
     "output_type": "display_data"
    }
   ],
   "source": [
    "mask = uber['Pickup point'] == 'City'\n",
    "hours = uber.loc[mask, 'Request timestamp'].dt.hour\n",
    "sns.countplot(data=uber[mask], x=hours, hue='Status')\n",
    "plt.plot(uber[mask].groupby(hours)['Request id'].agg(np.size), label='Number of requests')\n",
    "plt.xlabel('Hour')\n",
    "plt.legend(loc='upper right');"
   ]
  },
  {
   "attachments": {},
   "cell_type": "markdown",
   "id": "9e565a4a",
   "metadata": {},
   "source": [
    "Next, let us look into the number of trips the different drivers completed. I created two charts to illustrate this. The first one is a histogram and the second one is a boxplot. Both chart types are commonly used to visualise frequency distributions.\n",
    "\n",
    "The histogram shows how often each different value of the number of completed trips per driver occurs in the dataset. I have also added an estimate of the closest Gaussian distribution. We can see that altough the data resembles a Gaussian (normal) distribution, there is a massive spike (value concentration) around the middle of the distribution making it leptokurtic.\n",
    "\n",
    "As for the boxplot, the box in the middle represents the so-called interquartile range which means the data points that fall between the 25th and 75th percentiles. The length of the lines (whiskers) extending from this box indicates the extent to which the data varies outside of these said percentiles. If there were outliers in the data, we would see little dots representing them beyond the end of the whiskers."
   ]
  },
  {
   "cell_type": "code",
   "execution_count": 14,
   "id": "383d0f50",
   "metadata": {},
   "outputs": [
    {
     "data": {
      "image/png": "[encoded data removed]",
      "text/plain": [
       "<Figure size 720x288 with 2 Axes>"
      ]
     },
     "metadata": {
      "needs_background": "light"
     },
     "output_type": "display_data"
    }
   ],
   "source": [
    "fig, axs = plt.subplots(1, 2, figsize=(10,4))\n",
    "g = sns.histplot(uber['Driver id'].value_counts(),ax=axs[0], kde=True)\n",
    "h = sns.boxplot(data=uber, orient='v', y=uber['Driver id'].value_counts(), ax=axs[1])\n",
    "\n",
    "g.set(xlabel='Total number of trips per driver')\n",
    "h.set(ylabel='Total number of trips per driver');"
   ]
  },
  {
   "cell_type": "markdown",
   "id": "55ad646d",
   "metadata": {},
   "source": [
    "Finally, let us investigate prices!\n",
    "\n",
    "The first thing to check is whether there is any missing value for completed trips, which would then require either filling them in with the mean/median or getting rid of these records altogether. We find that there is one completed trip with a missing price, so we plug in the mean.\n",
    "\n",
    "The other way around (i.e. not a completed trip yet it has a price) is probably less important but there are 4 such cases that we can fix by updating prices with np.nans."
   ]
  },
  {
   "cell_type": "code",
   "execution_count": 15,
   "id": "f77f3c98",
   "metadata": {},
   "outputs": [
    {
     "data": {
      "text/html": [
       "<div>\n",
       "<style scoped>\n",
       "    .dataframe tbody tr th:only-of-type {\n",
       "        vertical-align: middle;\n",
       "    }\n",
       "\n",
       "    .dataframe tbody tr th {\n",
       "        vertical-align: top;\n",
       "    }\n",
       "\n",
       "    .dataframe thead th {\n",
       "        text-align: right;\n",
       "    }\n",
       "</style>\n",
       "<table border=\"1\" class=\"dataframe\">\n",
       "  <thead>\n",
       "    <tr style=\"text-align: right;\">\n",
       "      <th></th>\n",
       "      <th>Request id</th>\n",
       "      <th>Pickup point</th>\n",
       "      <th>Driver id</th>\n",
       "      <th>Status</th>\n",
       "      <th>Request timestamp</th>\n",
       "      <th>Drop timestamp</th>\n",
       "      <th>Price</th>\n",
       "    </tr>\n",
       "  </thead>\n",
       "  <tbody>\n",
       "    <tr>\n",
       "      <th>10</th>\n",
       "      <td>1467</td>\n",
       "      <td>Airport</td>\n",
       "      <td>2.0</td>\n",
       "      <td>Trip Completed</td>\n",
       "      <td>2016-12-07 05:08:00</td>\n",
       "      <td>2016-12-07 06:02:00</td>\n",
       "      <td>NaN</td>\n",
       "    </tr>\n",
       "  </tbody>\n",
       "</table>\n",
       "</div>"
      ],
      "text/plain": [
       "    Request id Pickup point  Driver id          Status   Request timestamp  \\\n",
       "10        1467      Airport        2.0  Trip Completed 2016-12-07 05:08:00   \n",
       "\n",
       "        Drop timestamp  Price  \n",
       "10 2016-12-07 06:02:00    NaN  "
      ]
     },
     "execution_count": 15,
     "metadata": {},
     "output_type": "execute_result"
    }
   ],
   "source": [
    "mask1 = uber.Price.isna()\n",
    "mask2 = uber['Status'] == 'Trip Completed'\n",
    "uber[mask1 & mask2]"
   ]
  },
  {
   "cell_type": "code",
   "execution_count": 16,
   "id": "10449d42",
   "metadata": {},
   "outputs": [],
   "source": [
    "# fill in missing value with mean price\n",
    "uber.loc[mask1 & mask2, 'Price'] = np.mean(uber.Price)"
   ]
  },
  {
   "cell_type": "code",
   "execution_count": 17,
   "id": "f757bbcb",
   "metadata": {},
   "outputs": [
    {
     "data": {
      "text/html": [
       "<div>\n",
       "<style scoped>\n",
       "    .dataframe tbody tr th:only-of-type {\n",
       "        vertical-align: middle;\n",
       "    }\n",
       "\n",
       "    .dataframe tbody tr th {\n",
       "        vertical-align: top;\n",
       "    }\n",
       "\n",
       "    .dataframe thead th {\n",
       "        text-align: right;\n",
       "    }\n",
       "</style>\n",
       "<table border=\"1\" class=\"dataframe\">\n",
       "  <thead>\n",
       "    <tr style=\"text-align: right;\">\n",
       "      <th></th>\n",
       "      <th>Request id</th>\n",
       "      <th>Pickup point</th>\n",
       "      <th>Driver id</th>\n",
       "      <th>Status</th>\n",
       "      <th>Request timestamp</th>\n",
       "      <th>Drop timestamp</th>\n",
       "      <th>Price</th>\n",
       "    </tr>\n",
       "  </thead>\n",
       "  <tbody>\n",
       "    <tr>\n",
       "      <th>2856</th>\n",
       "      <td>3184</td>\n",
       "      <td>City</td>\n",
       "      <td>7.0</td>\n",
       "      <td>Cancelled</td>\n",
       "      <td>2016-07-13 09:21:00</td>\n",
       "      <td>NaT</td>\n",
       "      <td>117.286271</td>\n",
       "    </tr>\n",
       "    <tr>\n",
       "      <th>2857</th>\n",
       "      <td>1687</td>\n",
       "      <td>City</td>\n",
       "      <td>8.0</td>\n",
       "      <td>Cancelled</td>\n",
       "      <td>2016-12-07 07:51:00</td>\n",
       "      <td>NaT</td>\n",
       "      <td>147.183606</td>\n",
       "    </tr>\n",
       "    <tr>\n",
       "      <th>2858</th>\n",
       "      <td>4174</td>\n",
       "      <td>City</td>\n",
       "      <td>8.0</td>\n",
       "      <td>Cancelled</td>\n",
       "      <td>2016-07-14 05:19:00</td>\n",
       "      <td>NaT</td>\n",
       "      <td>163.768428</td>\n",
       "    </tr>\n",
       "    <tr>\n",
       "      <th>2950</th>\n",
       "      <td>2305</td>\n",
       "      <td>City</td>\n",
       "      <td>33.0</td>\n",
       "      <td>Cancelled</td>\n",
       "      <td>2016-12-07 18:56:00</td>\n",
       "      <td>NaT</td>\n",
       "      <td>163.768428</td>\n",
       "    </tr>\n",
       "  </tbody>\n",
       "</table>\n",
       "</div>"
      ],
      "text/plain": [
       "      Request id Pickup point  Driver id     Status   Request timestamp  \\\n",
       "2856        3184         City        7.0  Cancelled 2016-07-13 09:21:00   \n",
       "2857        1687         City        8.0  Cancelled 2016-12-07 07:51:00   \n",
       "2858        4174         City        8.0  Cancelled 2016-07-14 05:19:00   \n",
       "2950        2305         City       33.0  Cancelled 2016-12-07 18:56:00   \n",
       "\n",
       "     Drop timestamp       Price  \n",
       "2856            NaT  117.286271  \n",
       "2857            NaT  147.183606  \n",
       "2858            NaT  163.768428  \n",
       "2950            NaT  163.768428  "
      ]
     },
     "execution_count": 17,
     "metadata": {},
     "output_type": "execute_result"
    }
   ],
   "source": [
    "mask1 = uber.Price.isna()\n",
    "mask2 = uber['Status'] != 'Trip Completed'\n",
    "uber[~mask1 & mask2]"
   ]
  },
  {
   "cell_type": "code",
   "execution_count": 18,
   "id": "68cb72b2",
   "metadata": {},
   "outputs": [],
   "source": [
    "# update prices for not completed trips with np.nans\n",
    "mask1 = uber.Price.isna()\n",
    "mask2 = uber['Status'] != 'Trip Completed'\n",
    "uber.loc[~mask1 & mask2, 'Price'] = np.nan"
   ]
  },
  {
   "attachments": {},
   "cell_type": "markdown",
   "id": "ec0c92b9",
   "metadata": {},
   "source": [
    "Using pandas .describe() method we can have a sense of the distribution of the prices. Notice that the max value is huge relative to even the 75th percentile indicating the presence of outliers.\n",
    "\n",
    "Outliers are observations that generally speaking do not fit in. They can be thought of as anomalies. They can lead to measurement errors and adversely affect the performance of many machine learning models, among others, so it is a good idea to do something about them. There are many methods at our disposal including some of the methods discussed earlier for data imputation. What I am going to use here is called clipping where if a value of an attribute is either above or below a certain threshold, it gets substituted with the threshold value. I set these threshold values to be the 0.5% and 99.5% percentiles.\n",
    "\n",
    "We can see that clipping the outliers resulted in a much smaller maximum value, that looks a lot more reasonable as it is less than 3 standard deviations away from the mean."
   ]
  },
  {
   "cell_type": "code",
   "execution_count": 19,
   "id": "2abeaf76",
   "metadata": {},
   "outputs": [
    {
     "data": {
      "text/plain": [
       "count     2831.000000\n",
       "mean       119.279537\n",
       "std        323.821528\n",
       "min         34.594305\n",
       "25%         81.305835\n",
       "50%        104.899879\n",
       "75%        133.363958\n",
       "max      11359.242720\n",
       "Name: Price, dtype: float64"
      ]
     },
     "execution_count": 19,
     "metadata": {},
     "output_type": "execute_result"
    }
   ],
   "source": [
    "uber.Price.describe()"
   ]
  },
  {
   "cell_type": "code",
   "execution_count": 20,
   "id": "0dd2dc37",
   "metadata": {},
   "outputs": [
    {
     "name": "stdout",
     "output_type": "stream",
     "text": [
      "Max z-score: 2.62\n"
     ]
    },
    {
     "data": {
      "text/plain": [
       "count    2831.000000\n",
       "mean      108.931430\n",
       "std        36.090239\n",
       "min        43.446727\n",
       "25%        81.305835\n",
       "50%       104.899879\n",
       "75%       133.363958\n",
       "max       203.444382\n",
       "Name: Price, dtype: float64"
      ]
     },
     "execution_count": 20,
     "metadata": {},
     "output_type": "execute_result"
    }
   ],
   "source": [
    "lower_threshold = np.percentile(uber.Price.dropna(), 0.5)\n",
    "upper_threshold = np.percentile(uber.Price.dropna(), 99.5)\n",
    "clipped_prices = np.clip(uber.Price, lower_threshold, upper_threshold)\n",
    "zscore_1 = (max(clipped_prices) - np.mean(clipped_prices)) / np.std(clipped_prices)\n",
    "zscore_2 = (np.mean(clipped_prices) - min(clipped_prices)) / np.std(clipped_prices)\n",
    "\n",
    "print(f\"Max z-score: {max(zscore_1, zscore_2):.2f}\")\n",
    "clipped_prices.describe()"
   ]
  },
  {
   "cell_type": "markdown",
   "id": "a5f3ba87",
   "metadata": {},
   "source": [
    "Finally, plot the distribution of the clipped prices to have a sense of how expensive it is to ride an Uber! *Note again that I randomly generated most of these \"prices\"*\n",
    "\n",
    "The histogram exhibits a pronounced positive (right) skew, so the rides on the cheaper end are more frequent. We may wonder how prices relate to the length of the rides calculated as the difference between the request and drop off times in seconds. Calculating the correlation coefficient indicates that there is no linear relationship between the two."
   ]
  },
  {
   "cell_type": "code",
   "execution_count": 21,
   "id": "3339b5a4",
   "metadata": {},
   "outputs": [
    {
     "data": {
      "text/plain": [
       "<AxesSubplot:ylabel='Price'>"
      ]
     },
     "execution_count": 21,
     "metadata": {},
     "output_type": "execute_result"
    },
    {
     "data": {
      "image/png": "[encoded data removed]",
      "text/plain": [
       "<Figure size 720x288 with 2 Axes>"
      ]
     },
     "metadata": {
      "needs_background": "light"
     },
     "output_type": "display_data"
    }
   ],
   "source": [
    "fig, axs = plt.subplots(1, 2, figsize=(10,4))\n",
    "sns.histplot(clipped_prices,ax=axs[0], kde=True)\n",
    "sns.boxplot(orient='v', y=clipped_prices, ax=axs[1])"
   ]
  },
  {
   "cell_type": "code",
   "execution_count": 22,
   "id": "853b92ec",
   "metadata": {},
   "outputs": [
    {
     "data": {
      "text/plain": [
       "array([[1.        , 0.00515974],\n",
       "       [0.00515974, 1.        ]])"
      ]
     },
     "execution_count": 22,
     "metadata": {},
     "output_type": "execute_result"
    }
   ],
   "source": [
    "# timedelta in seconds\n",
    "total_seconds = (uber['Drop timestamp'] - uber['Request timestamp']).dropna().dt.total_seconds()\n",
    "\n",
    "# calculating correlation\n",
    "np.corrcoef(total_seconds, clipped_prices.dropna())"
   ]
  }
 ],
 "metadata": {
  "kernelspec": {
   "display_name": "Python 3 (ipykernel)",
   "language": "python",
   "name": "python3"
  },
  "language_info": {
   "codemirror_mode": {
    "name": "ipython",
    "version": 3
   },
   "file_extension": ".py",
   "mimetype": "text/x-python",
   "name": "python",
   "nbconvert_exporter": "python",
   "pygments_lexer": "ipython3",
   "version": "3.8.12"
  }
 },
 "nbformat": 4,
 "nbformat_minor": 5
}
